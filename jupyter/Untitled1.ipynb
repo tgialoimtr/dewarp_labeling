{
 "cells": [
  {
   "cell_type": "code",
   "execution_count": 5,
   "metadata": {},
   "outputs": [],
   "source": [
    "import sqlite3\n",
    "import os\n",
    "ROOT_DIR = '/home/loitg/workspace/dewarp/'"
   ]
  },
  {
   "cell_type": "code",
   "execution_count": 6,
   "metadata": {},
   "outputs": [],
   "source": [
    "db = sqlite3.connect(os.path.join(ROOT_DIR, 'instance/flaskr.sqlite'),\\\n",
    "                    detect_types=sqlite3.PARSE_DECLTYPES)"
   ]
  },
  {
   "cell_type": "code",
   "execution_count": 19,
   "metadata": {},
   "outputs": [],
   "source": [
    "db.close()"
   ]
  },
  {
   "cell_type": "code",
   "execution_count": 7,
   "metadata": {},
   "outputs": [],
   "source": [
    "c = db.cursor()"
   ]
  },
  {
   "cell_type": "code",
   "execution_count": 64,
   "metadata": {},
   "outputs": [
    {
     "data": {
      "text/plain": [
       "<sqlite3.Cursor at 0x7fbea4444490>"
      ]
     },
     "execution_count": 64,
     "metadata": {},
     "output_type": "execute_result"
    }
   ],
   "source": [
    "c.execute('''\n",
    "CREATE TABLE IF NOT EXISTS images (\n",
    "  imageName TEXT PRIMARY KEY UNIQUE,\n",
    "  imageStatus TEXT NOT NULL,\n",
    "  guidelines TEXT\n",
    ");\n",
    "''')"
   ]
  },
  {
   "cell_type": "code",
   "execution_count": 7,
   "metadata": {},
   "outputs": [
    {
     "data": {
      "text/plain": [
       "[]"
      ]
     },
     "execution_count": 7,
     "metadata": {},
     "output_type": "execute_result"
    }
   ],
   "source": [
    "c.fetchall()"
   ]
  },
  {
   "cell_type": "code",
   "execution_count": 85,
   "metadata": {},
   "outputs": [],
   "source": [
    "rs = c.execute(\"SELECT name FROM sqlite_master WHERE type='table' AND name=?\", ['images']);"
   ]
  },
  {
   "cell_type": "code",
   "execution_count": 33,
   "metadata": {},
   "outputs": [],
   "source": [
    "guidelinesimgname=650000000000030.9f127175-977c-4579-8010-b519185d3f52.636613972057668675.jpg%2F&status=123\n"
   ]
  },
  {
   "cell_type": "code",
   "execution_count": 36,
   "metadata": {},
   "outputs": [],
   "source": [
    "rs = c.execute(\"select * from images where imageName=?;\", ['650000000000055.a12cff97-ff45-4f8e-8639-5374b665a426.636610805786953293.jpg'])"
   ]
  },
  {
   "cell_type": "code",
   "execution_count": 6,
   "metadata": {},
   "outputs": [
    {
     "data": {
      "text/plain": [
       "-1"
      ]
     },
     "execution_count": 6,
     "metadata": {},
     "output_type": "execute_result"
    }
   ],
   "source": [
    "c.rowcount"
   ]
  },
  {
   "cell_type": "code",
   "execution_count": 18,
   "metadata": {},
   "outputs": [],
   "source": [
    "rs = c.execute('Update images set guidelines = ?, imageStatus=? where imageName = ?', ('[1,2,3]', 'Done', 'Peter'))"
   ]
  },
  {
   "cell_type": "code",
   "execution_count": 41,
   "metadata": {},
   "outputs": [
    {
     "name": "stdout",
     "output_type": "stream",
     "text": [
      "3 was inserted.\n"
     ]
    }
   ],
   "source": [
    "sql = \"INSERT INTO images VALUES (?,?,?);\"\n",
    "val = [\n",
    "  ('Peter', 'Lowstreet 4',''),\n",
    "  ('Amy', 'Apple st 652',''),\n",
    "  ('Hannah', 'Mountain 21','')\n",
    "]\n",
    "\n",
    "c.executemany(sql, val)\n",
    "db.commit()\n",
    "print(c.rowcount, \"was inserted.\")"
   ]
  },
  {
   "cell_type": "code",
   "execution_count": 10,
   "metadata": {},
   "outputs": [],
   "source": [
    "rs = c.execute('Update images set guidelines = ?, imageStatus=? where imageName = ?', ('[]', 'None', '650000000000058.12b6447a-74cb-4445-a32e-65660dabbde2.636615038781264776.jpg'))\n",
    "db.commit()"
   ]
  },
  {
   "cell_type": "code",
   "execution_count": 37,
   "metadata": {},
   "outputs": [
    {
     "data": {
      "text/plain": [
       "('650000000000055.a12cff97-ff45-4f8e-8639-5374b665a426.636610805786953293.jpg',\n",
       " 'loitg redraw',\n",
       " '[[{\"x\":71,\"y\":54},{\"x\":521,\"y\":74}],[{\"x\":71,\"y\":244},{\"x\":467,\"y\":332}]]')"
      ]
     },
     "execution_count": 37,
     "metadata": {},
     "output_type": "execute_result"
    }
   ],
   "source": [
    "rs.fetchone()"
   ]
  },
  {
   "cell_type": "code",
   "execution_count": 4,
   "metadata": {},
   "outputs": [],
   "source": [
    "rs = c.execute(\"drop table images;\")"
   ]
  },
  {
   "cell_type": "code",
   "execution_count": 106,
   "metadata": {},
   "outputs": [
    {
     "name": "stdout",
     "output_type": "stream",
     "text": [
      "found 0 items in 0.000302 second\n",
      "insert all in 0.127138 second\n"
     ]
    }
   ],
   "source": [
    "imagesdir = '/home/loitg/ssd/data/temp3/images_unify_old'\n",
    "\n",
    "\n",
    "\n",
    "c = db.cursor()\n",
    "c.execute('''\n",
    "CREATE TABLE IF NOT EXISTS images (\n",
    "imageName TEXT PRIMARY KEY UNIQUE,\n",
    "imageStatus TEXT NOT NULL,\n",
    "guidelines TEXT\n",
    ");\n",
    "''')\n",
    "#from time import time\n",
    "#tt = time()\n",
    "\n",
    "c.execute(\"select * from images\")\n",
    "rowcount = len(c.fetchall())\n",
    "# print('found %d items in %f second' % (rowcount, time()-tt))\n",
    "# tt = time()\n",
    "if rowcount == 0:\n",
    "    imgnames = list(os.listdir(imagesdir))\n",
    "    sql = \"INSERT INTO images VALUES (?,?,?);\"\n",
    "    val = [(imgname, 'None','') for imgname in imgnames]\n",
    "    c.executemany(sql, val)\n",
    "    db.commit()\n",
    "    #print('insert all in %f second' % (time() - tt))\n",
    "    "
   ]
  },
  {
   "cell_type": "code",
   "execution_count": 109,
   "metadata": {},
   "outputs": [
    {
     "ename": "AttributeError",
     "evalue": "'sqlite3.Cursor' object has no attribute '__dict__'",
     "output_type": "error",
     "traceback": [
      "\u001b[0;31m---------------------------------------------------------------------------\u001b[0m",
      "\u001b[0;31mAttributeError\u001b[0m                            Traceback (most recent call last)",
      "\u001b[0;32m<ipython-input-109-34fc05dbf9e1>\u001b[0m in \u001b[0;36m<module>\u001b[0;34m\u001b[0m\n\u001b[0;32m----> 1\u001b[0;31m \u001b[0mc\u001b[0m\u001b[0;34m.\u001b[0m\u001b[0m__dict__\u001b[0m\u001b[0;34m(\u001b[0m\u001b[0;34m)\u001b[0m\u001b[0;34m\u001b[0m\u001b[0;34m\u001b[0m\u001b[0m\n\u001b[0m",
      "\u001b[0;31mAttributeError\u001b[0m: 'sqlite3.Cursor' object has no attribute '__dict__'"
     ]
    }
   ],
   "source": []
  },
  {
   "cell_type": "code",
   "execution_count": null,
   "metadata": {},
   "outputs": [],
   "source": []
  }
 ],
 "metadata": {
  "kernelspec": {
   "display_name": "Python 3",
   "language": "python",
   "name": "python3"
  },
  "language_info": {
   "codemirror_mode": {
    "name": "ipython",
    "version": 3
   },
   "file_extension": ".py",
   "mimetype": "text/x-python",
   "name": "python",
   "nbconvert_exporter": "python",
   "pygments_lexer": "ipython3",
   "version": "3.6.9"
  }
 },
 "nbformat": 4,
 "nbformat_minor": 2
}
